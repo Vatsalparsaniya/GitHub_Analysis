{
 "nbformat": 4,
 "nbformat_minor": 2,
 "metadata": {
  "language_info": {
   "name": "python",
   "codemirror_mode": {
    "name": "ipython",
    "version": 3
   },
   "version": "3.7.5-final"
  },
  "orig_nbformat": 2,
  "file_extension": ".py",
  "mimetype": "text/x-python",
  "name": "python",
  "npconvert_exporter": "python",
  "pygments_lexer": "ipython3",
  "version": 3,
  "kernelspec": {
   "name": "python37232bit0bafe0d4bf6a43df845319a7cc4e1dd0",
   "display_name": "Python 3.7.2 32-bit"
  }
 },
 "cells": [
  {
   "cell_type": "code",
   "execution_count": 153,
   "metadata": {},
   "outputs": [],
   "source": [
    "import os\n",
    "import re\n",
    "import urllib.request\n",
    "from bs4 import BeautifulSoup\n",
    "import os\n",
    "import csv\n",
    "import time\n",
    "import requests\n",
    "from urllib.request import Request, urlopen\n",
    "import pandas as pd"
   ]
  },
  {
   "cell_type": "code",
   "execution_count": 154,
   "metadata": {},
   "outputs": [],
   "source": [
    "topic_Name = [\"Data Science\",\"machine Learning\",\"OpenCV\",\"ComputerVision\",\"GAN\",\"variational encoder\",\"awsome\",\"javascript\",\"c++\"]\n",
    "number_of_Repositories  = 2\n",
    "repository_list = {}\n",
    "for name in topic_Name:\n",
    "    repository_list[name] = []\n",
    "Data = {}\n",
    "col_name = [\"topic\",\"name\",\"user\",\"star\",\"fork\",\"watch\",\"topic_tag\",\"discription_text\",\"discription_url\",\"commits\",\"branches\",\"packages\",\"releases\",\"contributers\",\"License\",\"url\"]\n",
    "for name in col_name:\n",
    "    Data[name] = []"
   ]
  },
  {
   "cell_type": "code",
   "execution_count": 155,
   "metadata": {
    "tags": [
     "outputPrepend"
    ]
   },
   "outputs": [],
   "source": [
    "for topic in topic_Name:\n",
    "    page_number = 1\n",
    "    repo_number = 0\n",
    "    while len(repository_list[topic]) < number_of_Repositories:\n",
    "        url = \"https://github.com/search?o=desc&p=\"+ str(page_number) +\"&q=\"+str(topic)+\"&s=stars&type=Repositories\"\n",
    "        data_page = requests.get(url)\n",
    "        time.sleep(0.1)\n",
    "        main_data = BeautifulSoup(data_page.content,'html.parser')\n",
    "        for sub_data in main_data.findAll('li',attrs={'class':'repo-list-item'}):\n",
    "            repository_path = str(sub_data.findAll('a',attrs={'class':\"v-align-middle\"})[0].text)\n",
    "            repository_user_name , repository_name = repository_path.split('/')\n",
    "            repository_URL = \"https://github.com/\" + repository_path\n",
    "            repository_page = requests.get(repository_URL)\n",
    "            time.sleep(0.1)\n",
    "            repository_data = BeautifulSoup(repository_page.content,'html.parser')\n",
    "            # ropository data\n",
    "\n",
    "            ## Social Count\n",
    "            social_count = repository_data.findAll('a',attrs={'class':\"social-count\"})\n",
    "            repository_watch = social_count[0].text.strip()\n",
    "            repository_star = social_count[1].text.strip()\n",
    "            repository_fork = social_count[2].text.strip()\n",
    "            # print(repository_watch,repository_star,repository_fork)\n",
    "            \n",
    "            # Repository tag\n",
    "            repository_topic_tag = [str(i.text)[3:-1] for i in repository_data.findAll('a',attrs={'class':\"topic-tag\"})]\n",
    "            repository_discription = repository_data.find('div',attrs={'class':\"f4\"})\n",
    "\n",
    "            # Repository Discription\n",
    "            repository_discription_text = repository_discription.find('span',attrs={'class':\"mr-2\"}).text.strip()\n",
    "            repository_discription_url = repository_discription.find('a').text if repository_discription.find('a') != None else None\n",
    "            \n",
    "            # Repository overall-summary\n",
    "            repository_overall_summary = repository_data.find('ul',attrs={'class':'numbers-summary'})\n",
    "            repository_num_summary = repository_overall_summary.findAll('span',attrs={'class':'num'})\n",
    "            repository_commits = repository_num_summary[0].text.strip() if repository_num_summary[0] != None else 0\n",
    "            repository_branches = repository_num_summary[1].text.strip() if repository_num_summary[1] != None else 0\n",
    "            repository_packages = repository_num_summary[2].text.strip() if repository_num_summary[2] != None else 0\n",
    "            repository_releases = repository_num_summary[2].text.strip() if repository_num_summary[3] != None else 0\n",
    "            repository_contributers = repository_num_summary[3].text.strip() if repository_num_summary[3] != None else 0\n",
    "            repository_License = repository_data.find('ul',attrs={'class':'numbers-summary'}).findAll('li')[-1].text.strip()\n",
    "            repo_number += 1\n",
    "\n",
    "            # print(repo_number,repository_path,repository_URL,repository_name,repository_star,repository_fork,repository_watch,repository_topic_tag,repository_discription_text,repository_discription_url,repository_commits,repository_branches,repository_packages,repository_releases,repository_contributers,repository_License)\n",
    "            \n",
    "            for a,b in zip([\"topic\",\"name\",\"user\",\"star\",\"fork\",\"watch\",\"topic_tag\",\"discription_text\",\"discription_url\",\"commits\",\"branches\",\"packages\",\"releases\",\"contributers\",\"License\",\"url\"],[topic,repository_name,repository_user_name,repository_star,repository_fork,repository_watch,repository_topic_tag,repository_discription_text,repository_discription_url,repository_commits,repository_branches,repository_packages,repository_releases,repository_contributers,repository_License,repository_URL]):\n",
    "                Data[a].append(b)\n",
    "                \n",
    "            repository_list[topic].append(repository_path)\n",
    "            \n",
    "            if (repo_number >= number_of_Repositories):\n",
    "                break\n",
    "        page_number += 1"
   ]
  },
  {
   "cell_type": "code",
   "execution_count": 156,
   "metadata": {},
   "outputs": [],
   "source": [
    "Data_f = pd.DataFrame(Data)"
   ]
  },
  {
   "cell_type": "code",
   "execution_count": 157,
   "metadata": {},
   "outputs": [
    {
     "output_type": "execute_result",
     "data": {
      "text/plain": "                  topic                                name  \\\n0          Data Science           PythonDataScienceHandbook   \n1          Data Science           Data-Science--Cheat-Sheet   \n2      machine Learning                          tensorflow   \n3      machine Learning            awesome-machine-learning   \n4                OpenCV                              opencv   \n5                OpenCV                            openpose   \n6        ComputerVision                         learnopencv   \n7        ComputerVision                                 vrn   \n8                   GAN        pytorch-CycleGAN-and-pix2pix   \n9                   GAN                            CycleGAN   \n10  variational encoder       alfred-encode-decode-workflow   \n11  variational encoder                tensorflow-mnist-VAE   \n12               awsome                         awesome-aws   \n13               awsome  Awsome-Front-End-learning-resource   \n14           javascript                        freeCodeCamp   \n15           javascript                                 vue   \n16                  c++                           iCarousel   \n17                  c++                                card   \n\n                            user   star   fork watch  \\\n0                        jakevdp  23.1k   9.9k  1.5k   \n1                       abhat222  18.4k   8.2k  1.5k   \n2                     tensorflow   144k  80.9k  8.4k   \n3                   josephmisiti  44.3k  11.2k  3.4k   \n4                         opencv  43.9k  34.9k  2.6k   \n5   CMU-Perceptual-Computing-Lab  16.7k     5k   872   \n6                      spmallick  10.2k   6.7k   842   \n7                   AaronJackson     4k    679   213   \n8                        junyanz  11.6k   3.4k   311   \n9                        junyanz   9.6k   1.6k   401   \n10                   willfarrell    379     22    18   \n11                    hwalsuklee    377    154    15   \n12                   donnemartin     8k    949   432   \n13                 helloqingfeng   6.6k   1.6k   416   \n14                  freeCodeCamp   310k    24k  8.4k   \n15                         vuejs   163k  24.6k  6.1k   \n16                  nicklockwood  11.6k   2.6k   470   \n17                   jessepollak  10.9k   1.3k   235   \n\n                                            topic_tag  \\\n0   [scikit-learn, numpy, python, jupyter-notebook...   \n1                                                  []   \n2   [tensorflow, machine-learning, python, deep-le...   \n3                                                  []   \n4   [opencv, c-plus-plus, computer-vision, deep-le...   \n5   [openpose, computer-vision, machine-learning, ...   \n6   [computer-vision, machine-learning, ai, deep-l...   \n7   [computervision, deeplearning, 3d, reconstruct...   \n8   [pytorch, gan, cyclegan, pix2pix, deep-learnin...   \n9   [gan, generative-adversarial-network, deep-lea...   \n10                                                 []   \n11  [tensorflow, mnist, vae, variational-autoencod...   \n12  [aws, cloud, aws-sdk, aws-cli, cloudformation,...   \n13    [javascript, frontend, resume, interview, book]   \n14  [learn-to-code, nonprofits, programming, nodej...   \n15             [vue, javascript, frontend, framework]   \n16                                                 []   \n17  [javascript, jquery, credit-card, payments, co...   \n\n                                     discription_text  \\\n0   Python Data Science Handbook: full text in Jup...   \n1                                        Cheat Sheets   \n2   An Open Source Machine Learning Framework for ...   \n3   A curated list of awesome Machine Learning fra...   \n4                 Open Source Computer Vision Library   \n5   OpenPose: Real-time multi-person keypoint dete...   \n6              Learn OpenCV : C++ and Python Examples   \n7   👨 Code for \"Large Pose 3D Face Reconstruction ...   \n8               Image-to-Image Translation in PyTorch   \n9   Software that can generate photos from paintin...   \n10  Encoding and decoding a sting into multiple va...   \n11  Tensorflow implementation of variational auto-...   \n12  A curated list of awesome Amazon Web Services ...   \n13               GitHub最全的前端资源汇总仓库（包括前端学习、开发资源、求职面试等）   \n14  freeCodeCamp.org's open source codebase and cu...   \n15  🖖 Vue.js is a progressive, incrementally-adopt...   \n16  A simple, highly customisable, data-driven 3D ...   \n17  💳 make your credit card form better in one lin...   \n\n                           discription_url commits branches packages releases  \\\n0   http://jakevdp.github.io/PythonDataSc…     234        5        0        0   \n1                                     None     363        3        0        0   \n2                   https://tensorflow.org  84,314       50        0        0   \n3                                     None   1,390        2        0        0   \n4                       https://opencv.org  28,487        3        0        0   \n5                                     None     609        3        0        0   \n6             https://www.learnopencv.com/     857        2        0        0   \n7   http://aaronsplace.co.uk/papers/jacks…      56        1        0        0   \n8                                     None     445        3        0        0   \n9                                     None      95        1        0        0   \n10                                    None      24        1        0        0   \n11                                    None       9        1        0        0   \n12                                    None     580        2        0        0   \n13  https://helloqingfeng.github.io/front…      34        2        0        0   \n14            https://www.freecodecamp.org  25,591        8        0        0   \n15                        http://vuejs.org   3,097       46        0        0   \n16  http://www.charcoaldesign.co.uk/sourc…     250        1        0        0   \n17                                    None     390       16        0        0   \n\n   contributers                     License  \\\n0             0                View license   \n1             0   8\\n    \\n    contributors   \n2           107                  Apache-2.0   \n3             0                View license   \n4            93                View license   \n5            13                View license   \n6             0  37\\n    \\n    contributors   \n7             0                         MIT   \n8             0                View license   \n9             0                View license   \n10            7                         MIT   \n11            0       Fetching contributors   \n12            1                View license   \n13            0       Fetching contributors   \n14            0                BSD-3-Clause   \n15          249                         MIT   \n16           39                View license   \n17           46                         MIT   \n\n                                                  url  \n0   https://github.com/jakevdp/PythonDataScienceHa...  \n1   https://github.com/abhat222/Data-Science--Chea...  \n2            https://github.com/tensorflow/tensorflow  \n3   https://github.com/josephmisiti/awesome-machin...  \n4                    https://github.com/opencv/opencv  \n5   https://github.com/CMU-Perceptual-Computing-La...  \n6            https://github.com/spmallick/learnopencv  \n7                 https://github.com/AaronJackson/vrn  \n8   https://github.com/junyanz/pytorch-CycleGAN-an...  \n9                 https://github.com/junyanz/CycleGAN  \n10  https://github.com/willfarrell/alfred-encode-d...  \n11  https://github.com/hwalsuklee/tensorflow-mnist...  \n12         https://github.com/donnemartin/awesome-aws  \n13  https://github.com/helloqingfeng/Awsome-Front-...  \n14       https://github.com/freeCodeCamp/freeCodeCamp  \n15                       https://github.com/vuejs/vue  \n16          https://github.com/nicklockwood/iCarousel  \n17                https://github.com/jessepollak/card  ",
      "text/html": "<div>\n<style scoped>\n    .dataframe tbody tr th:only-of-type {\n        vertical-align: middle;\n    }\n\n    .dataframe tbody tr th {\n        vertical-align: top;\n    }\n\n    .dataframe thead th {\n        text-align: right;\n    }\n</style>\n<table border=\"1\" class=\"dataframe\">\n  <thead>\n    <tr style=\"text-align: right;\">\n      <th></th>\n      <th>topic</th>\n      <th>name</th>\n      <th>user</th>\n      <th>star</th>\n      <th>fork</th>\n      <th>watch</th>\n      <th>topic_tag</th>\n      <th>discription_text</th>\n      <th>discription_url</th>\n      <th>commits</th>\n      <th>branches</th>\n      <th>packages</th>\n      <th>releases</th>\n      <th>contributers</th>\n      <th>License</th>\n      <th>url</th>\n    </tr>\n  </thead>\n  <tbody>\n    <tr>\n      <th>0</th>\n      <td>Data Science</td>\n      <td>PythonDataScienceHandbook</td>\n      <td>jakevdp</td>\n      <td>23.1k</td>\n      <td>9.9k</td>\n      <td>1.5k</td>\n      <td>[scikit-learn, numpy, python, jupyter-notebook...</td>\n      <td>Python Data Science Handbook: full text in Jup...</td>\n      <td>http://jakevdp.github.io/PythonDataSc…</td>\n      <td>234</td>\n      <td>5</td>\n      <td>0</td>\n      <td>0</td>\n      <td>0</td>\n      <td>View license</td>\n      <td>https://github.com/jakevdp/PythonDataScienceHa...</td>\n    </tr>\n    <tr>\n      <th>1</th>\n      <td>Data Science</td>\n      <td>Data-Science--Cheat-Sheet</td>\n      <td>abhat222</td>\n      <td>18.4k</td>\n      <td>8.2k</td>\n      <td>1.5k</td>\n      <td>[]</td>\n      <td>Cheat Sheets</td>\n      <td>None</td>\n      <td>363</td>\n      <td>3</td>\n      <td>0</td>\n      <td>0</td>\n      <td>0</td>\n      <td>8\\n    \\n    contributors</td>\n      <td>https://github.com/abhat222/Data-Science--Chea...</td>\n    </tr>\n    <tr>\n      <th>2</th>\n      <td>machine Learning</td>\n      <td>tensorflow</td>\n      <td>tensorflow</td>\n      <td>144k</td>\n      <td>80.9k</td>\n      <td>8.4k</td>\n      <td>[tensorflow, machine-learning, python, deep-le...</td>\n      <td>An Open Source Machine Learning Framework for ...</td>\n      <td>https://tensorflow.org</td>\n      <td>84,314</td>\n      <td>50</td>\n      <td>0</td>\n      <td>0</td>\n      <td>107</td>\n      <td>Apache-2.0</td>\n      <td>https://github.com/tensorflow/tensorflow</td>\n    </tr>\n    <tr>\n      <th>3</th>\n      <td>machine Learning</td>\n      <td>awesome-machine-learning</td>\n      <td>josephmisiti</td>\n      <td>44.3k</td>\n      <td>11.2k</td>\n      <td>3.4k</td>\n      <td>[]</td>\n      <td>A curated list of awesome Machine Learning fra...</td>\n      <td>None</td>\n      <td>1,390</td>\n      <td>2</td>\n      <td>0</td>\n      <td>0</td>\n      <td>0</td>\n      <td>View license</td>\n      <td>https://github.com/josephmisiti/awesome-machin...</td>\n    </tr>\n    <tr>\n      <th>4</th>\n      <td>OpenCV</td>\n      <td>opencv</td>\n      <td>opencv</td>\n      <td>43.9k</td>\n      <td>34.9k</td>\n      <td>2.6k</td>\n      <td>[opencv, c-plus-plus, computer-vision, deep-le...</td>\n      <td>Open Source Computer Vision Library</td>\n      <td>https://opencv.org</td>\n      <td>28,487</td>\n      <td>3</td>\n      <td>0</td>\n      <td>0</td>\n      <td>93</td>\n      <td>View license</td>\n      <td>https://github.com/opencv/opencv</td>\n    </tr>\n    <tr>\n      <th>5</th>\n      <td>OpenCV</td>\n      <td>openpose</td>\n      <td>CMU-Perceptual-Computing-Lab</td>\n      <td>16.7k</td>\n      <td>5k</td>\n      <td>872</td>\n      <td>[openpose, computer-vision, machine-learning, ...</td>\n      <td>OpenPose: Real-time multi-person keypoint dete...</td>\n      <td>None</td>\n      <td>609</td>\n      <td>3</td>\n      <td>0</td>\n      <td>0</td>\n      <td>13</td>\n      <td>View license</td>\n      <td>https://github.com/CMU-Perceptual-Computing-La...</td>\n    </tr>\n    <tr>\n      <th>6</th>\n      <td>ComputerVision</td>\n      <td>learnopencv</td>\n      <td>spmallick</td>\n      <td>10.2k</td>\n      <td>6.7k</td>\n      <td>842</td>\n      <td>[computer-vision, machine-learning, ai, deep-l...</td>\n      <td>Learn OpenCV : C++ and Python Examples</td>\n      <td>https://www.learnopencv.com/</td>\n      <td>857</td>\n      <td>2</td>\n      <td>0</td>\n      <td>0</td>\n      <td>0</td>\n      <td>37\\n    \\n    contributors</td>\n      <td>https://github.com/spmallick/learnopencv</td>\n    </tr>\n    <tr>\n      <th>7</th>\n      <td>ComputerVision</td>\n      <td>vrn</td>\n      <td>AaronJackson</td>\n      <td>4k</td>\n      <td>679</td>\n      <td>213</td>\n      <td>[computervision, deeplearning, 3d, reconstruct...</td>\n      <td>👨 Code for \"Large Pose 3D Face Reconstruction ...</td>\n      <td>http://aaronsplace.co.uk/papers/jacks…</td>\n      <td>56</td>\n      <td>1</td>\n      <td>0</td>\n      <td>0</td>\n      <td>0</td>\n      <td>MIT</td>\n      <td>https://github.com/AaronJackson/vrn</td>\n    </tr>\n    <tr>\n      <th>8</th>\n      <td>GAN</td>\n      <td>pytorch-CycleGAN-and-pix2pix</td>\n      <td>junyanz</td>\n      <td>11.6k</td>\n      <td>3.4k</td>\n      <td>311</td>\n      <td>[pytorch, gan, cyclegan, pix2pix, deep-learnin...</td>\n      <td>Image-to-Image Translation in PyTorch</td>\n      <td>None</td>\n      <td>445</td>\n      <td>3</td>\n      <td>0</td>\n      <td>0</td>\n      <td>0</td>\n      <td>View license</td>\n      <td>https://github.com/junyanz/pytorch-CycleGAN-an...</td>\n    </tr>\n    <tr>\n      <th>9</th>\n      <td>GAN</td>\n      <td>CycleGAN</td>\n      <td>junyanz</td>\n      <td>9.6k</td>\n      <td>1.6k</td>\n      <td>401</td>\n      <td>[gan, generative-adversarial-network, deep-lea...</td>\n      <td>Software that can generate photos from paintin...</td>\n      <td>None</td>\n      <td>95</td>\n      <td>1</td>\n      <td>0</td>\n      <td>0</td>\n      <td>0</td>\n      <td>View license</td>\n      <td>https://github.com/junyanz/CycleGAN</td>\n    </tr>\n    <tr>\n      <th>10</th>\n      <td>variational encoder</td>\n      <td>alfred-encode-decode-workflow</td>\n      <td>willfarrell</td>\n      <td>379</td>\n      <td>22</td>\n      <td>18</td>\n      <td>[]</td>\n      <td>Encoding and decoding a sting into multiple va...</td>\n      <td>None</td>\n      <td>24</td>\n      <td>1</td>\n      <td>0</td>\n      <td>0</td>\n      <td>7</td>\n      <td>MIT</td>\n      <td>https://github.com/willfarrell/alfred-encode-d...</td>\n    </tr>\n    <tr>\n      <th>11</th>\n      <td>variational encoder</td>\n      <td>tensorflow-mnist-VAE</td>\n      <td>hwalsuklee</td>\n      <td>377</td>\n      <td>154</td>\n      <td>15</td>\n      <td>[tensorflow, mnist, vae, variational-autoencod...</td>\n      <td>Tensorflow implementation of variational auto-...</td>\n      <td>None</td>\n      <td>9</td>\n      <td>1</td>\n      <td>0</td>\n      <td>0</td>\n      <td>0</td>\n      <td>Fetching contributors</td>\n      <td>https://github.com/hwalsuklee/tensorflow-mnist...</td>\n    </tr>\n    <tr>\n      <th>12</th>\n      <td>awsome</td>\n      <td>awesome-aws</td>\n      <td>donnemartin</td>\n      <td>8k</td>\n      <td>949</td>\n      <td>432</td>\n      <td>[aws, cloud, aws-sdk, aws-cli, cloudformation,...</td>\n      <td>A curated list of awesome Amazon Web Services ...</td>\n      <td>None</td>\n      <td>580</td>\n      <td>2</td>\n      <td>0</td>\n      <td>0</td>\n      <td>1</td>\n      <td>View license</td>\n      <td>https://github.com/donnemartin/awesome-aws</td>\n    </tr>\n    <tr>\n      <th>13</th>\n      <td>awsome</td>\n      <td>Awsome-Front-End-learning-resource</td>\n      <td>helloqingfeng</td>\n      <td>6.6k</td>\n      <td>1.6k</td>\n      <td>416</td>\n      <td>[javascript, frontend, resume, interview, book]</td>\n      <td>GitHub最全的前端资源汇总仓库（包括前端学习、开发资源、求职面试等）</td>\n      <td>https://helloqingfeng.github.io/front…</td>\n      <td>34</td>\n      <td>2</td>\n      <td>0</td>\n      <td>0</td>\n      <td>0</td>\n      <td>Fetching contributors</td>\n      <td>https://github.com/helloqingfeng/Awsome-Front-...</td>\n    </tr>\n    <tr>\n      <th>14</th>\n      <td>javascript</td>\n      <td>freeCodeCamp</td>\n      <td>freeCodeCamp</td>\n      <td>310k</td>\n      <td>24k</td>\n      <td>8.4k</td>\n      <td>[learn-to-code, nonprofits, programming, nodej...</td>\n      <td>freeCodeCamp.org's open source codebase and cu...</td>\n      <td>https://www.freecodecamp.org</td>\n      <td>25,591</td>\n      <td>8</td>\n      <td>0</td>\n      <td>0</td>\n      <td>0</td>\n      <td>BSD-3-Clause</td>\n      <td>https://github.com/freeCodeCamp/freeCodeCamp</td>\n    </tr>\n    <tr>\n      <th>15</th>\n      <td>javascript</td>\n      <td>vue</td>\n      <td>vuejs</td>\n      <td>163k</td>\n      <td>24.6k</td>\n      <td>6.1k</td>\n      <td>[vue, javascript, frontend, framework]</td>\n      <td>🖖 Vue.js is a progressive, incrementally-adopt...</td>\n      <td>http://vuejs.org</td>\n      <td>3,097</td>\n      <td>46</td>\n      <td>0</td>\n      <td>0</td>\n      <td>249</td>\n      <td>MIT</td>\n      <td>https://github.com/vuejs/vue</td>\n    </tr>\n    <tr>\n      <th>16</th>\n      <td>c++</td>\n      <td>iCarousel</td>\n      <td>nicklockwood</td>\n      <td>11.6k</td>\n      <td>2.6k</td>\n      <td>470</td>\n      <td>[]</td>\n      <td>A simple, highly customisable, data-driven 3D ...</td>\n      <td>http://www.charcoaldesign.co.uk/sourc…</td>\n      <td>250</td>\n      <td>1</td>\n      <td>0</td>\n      <td>0</td>\n      <td>39</td>\n      <td>View license</td>\n      <td>https://github.com/nicklockwood/iCarousel</td>\n    </tr>\n    <tr>\n      <th>17</th>\n      <td>c++</td>\n      <td>card</td>\n      <td>jessepollak</td>\n      <td>10.9k</td>\n      <td>1.3k</td>\n      <td>235</td>\n      <td>[javascript, jquery, credit-card, payments, co...</td>\n      <td>💳 make your credit card form better in one lin...</td>\n      <td>None</td>\n      <td>390</td>\n      <td>16</td>\n      <td>0</td>\n      <td>0</td>\n      <td>46</td>\n      <td>MIT</td>\n      <td>https://github.com/jessepollak/card</td>\n    </tr>\n  </tbody>\n</table>\n</div>"
     },
     "metadata": {},
     "execution_count": 157
    }
   ],
   "source": [
    "Data_f"
   ]
  },
  {
   "cell_type": "code",
   "execution_count": null,
   "metadata": {},
   "outputs": [],
   "source": []
  }
 ]
}