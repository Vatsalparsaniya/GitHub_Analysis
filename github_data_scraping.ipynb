{
 "nbformat": 4,
 "nbformat_minor": 2,
 "metadata": {
  "language_info": {
   "name": "python",
   "codemirror_mode": {
    "name": "ipython",
    "version": 3
   },
   "version": "3.7.5-final"
  },
  "orig_nbformat": 2,
  "file_extension": ".py",
  "mimetype": "text/x-python",
  "name": "python",
  "npconvert_exporter": "python",
  "pygments_lexer": "ipython3",
  "version": 3,
  "kernelspec": {
   "name": "python37232bit0bafe0d4bf6a43df845319a7cc4e1dd0",
   "display_name": "Python 3.7.2 32-bit"
  }
 },
 "cells": [
  {
   "cell_type": "code",
   "execution_count": 175,
   "metadata": {},
   "outputs": [],
   "source": [
    "import os\n",
    "import re\n",
    "import urllib.request\n",
    "from bs4 import BeautifulSoup\n",
    "import os\n",
    "import csv\n",
    "import time\n",
    "import requests\n",
    "from urllib.request import Request, urlopen\n",
    "import pandas as pd"
   ]
  },
  {
   "cell_type": "code",
   "execution_count": 176,
   "metadata": {},
   "outputs": [],
   "source": [
    "topic_Name = [\"Data-Science\",\"machine-Learning\",\"Open-CV\",\"Computer-Vision\",\"GAN\",\"variational-encoder\",\"awsome\",\"javascript\",\"c++\"]\n",
    "number_of_Repositories  = 1\n",
    "repository_list = {}\n",
    "for name in topic_Name:\n",
    "    repository_list[name] = []\n",
    "Data = {}\n",
    "col_name = [\"topic\",\"name\",\"user\",\"star\",\"fork\",\"watch\",\"issue\",\"pull_requests\",\"projects\",\"topic_tag\",\"discription_text\",\"discription_url\",\"commits\",\"branches\",\"packages\",\"releases\",\"contributers\",\"License\",\"url\"]\n",
    "for name in col_name:\n",
    "    Data[name] = []\n",
    "Data_f = pd.DataFrame(Data)"
   ]
  },
  {
   "cell_type": "code",
   "execution_count": 179,
   "metadata": {
    "tags": [
     "outputPrepend"
    ]
   },
   "outputs": [],
   "source": [
    "for topic in topic_Name:\n",
    "    page_number = 1\n",
    "    repo_number = 0\n",
    "    temp_data = {}\n",
    "    for name in col_name:\n",
    "        temp_data[name] = []\n",
    "    while len(repository_list[topic]) < number_of_Repositories:\n",
    "        url = \"https://github.com/search?o=desc&p=\"+ str(page_number) +\"&q=\"+str(topic)+\"&s=stars&type=Repositories\"\n",
    "        data_page = requests.get(url)\n",
    "        time.sleep(0.1)\n",
    "        main_data = BeautifulSoup(data_page.content,'html.parser')\n",
    "        for sub_data in main_data.findAll('li',attrs={'class':'repo-list-item'}):\n",
    "            try:\n",
    "                repository_path = str(sub_data.findAll('a',attrs={'class':\"v-align-middle\"})[0].text)\n",
    "                repository_user_name , repository_name = repository_path.split('/')\n",
    "                repository_URL = \"https://github.com/\" + repository_path\n",
    "                repository_page = requests.get(repository_URL)\n",
    "                time.sleep(0.1)\n",
    "                repository_data = BeautifulSoup(repository_page.content,'html.parser')\n",
    "                # ropository data\n",
    "\n",
    "                ## Social Count\n",
    "                social_count = repository_data.findAll('a',attrs={'class':\"social-count\"})\n",
    "                repository_watch = social_count[0].text.strip()\n",
    "                repository_star = social_count[1].text.strip()\n",
    "                repository_fork = social_count[2].text.strip()\n",
    "                # print(repository_watch,repository_star,repository_fork)\n",
    "                \n",
    "                repository_issue = repository_data.findAll('span',attrs={'class':'Counter'})[0].text\n",
    "                repository_pull_requests = repository_data.findAll('span',attrs={'class':'Counter'})[1].text\n",
    "                repository_Projects = repository_data.findAll('span',attrs={'class':'Counter'})[2].text\n",
    "                # Repository tag\n",
    "                repository_topic_tag = [str(i.text)[3:-1] for i in repository_data.findAll('a',attrs={'class':\"topic-tag\"})]\n",
    "                repository_discription = repository_data.find('div',attrs={'class':\"f4\"})\n",
    "\n",
    "                # Repository Discription\n",
    "                repository_discription_text = repository_discription.find('span',attrs={'class':\"mr-2\"}).text.strip() if repository_discription.find('span',attrs={'class':\"mr-2\"}) != None else None\n",
    "                repository_discription_url = repository_discription.find('a').text if repository_discription.find('a') != None else None\n",
    "                \n",
    "                # Repository overall-summary\n",
    "                repository_overall_summary = repository_data.find('ul',attrs={'class':'numbers-summary'})\n",
    "                repository_num_summary = repository_overall_summary.findAll('span',attrs={'class':'num'})\n",
    "                repository_commits = repository_num_summary[0].text.strip() if repository_num_summary[0] != None else 0\n",
    "                repository_branches = repository_num_summary[1].text.strip() if repository_num_summary[1] != None else 0\n",
    "                repository_packages = repository_num_summary[2].text.strip() if repository_num_summary[2] != None else 0\n",
    "                repository_releases = repository_num_summary[2].text.strip() if repository_num_summary[3] != None else 0\n",
    "                repository_contributers = repository_num_summary[3].text.strip() if repository_num_summary[3] != None else 0\n",
    "                repository_License = repository_data.find('ul',attrs={'class':'numbers-summary'}).findAll('li')[-1].text.strip()\n",
    "\n",
    "                # print(repo_number,repository_path,repository_URL,repository_name,repository_star,repository_fork,repository_watch,repository_topic_tag,repository_discription_text,repository_discription_url,repository_commits,repository_branches,repository_packages,repository_releases,repository_contributers,repository_License)\n",
    "                \n",
    "                for a,b in zip([\"topic\",\"name\",\"user\",\"star\",\"fork\",\"watch\",\"issue\",\"pull_requests\",\"projects\",\"topic_tag\",\"discription_text\",\"discription_url\",\"commits\",\"branches\",\"packages\",\"releases\",\"contributers\",\"License\",\"url\"],[topic,repository_name,repository_user_name,repository_star,repository_fork,repository_watch,repository_issue,repository_pull_requests,repository_Projects,repository_topic_tag,repository_discription_text,repository_discription_url,repository_commits,repository_branches,repository_packages,repository_releases,repository_contributers,repository_License,repository_URL]):\n",
    "                    temp_data[a].append(b)\n",
    "                    \n",
    "                repository_list[topic].append(repository_path)\n",
    "                repo_number += 1\n",
    "            except:\n",
    "                print(\"Error\")\n",
    "                continue\n",
    "            if (repo_number >= number_of_Repositories):\n",
    "                break\n",
    "        page_number += 1\n",
    "    temp_df = pd.DataFrame(temp_data)\n",
    "    Data_f = pd.concat([Data_f,temp_df])"
   ]
  },
  {
   "cell_type": "code",
   "execution_count": 156,
   "metadata": {},
   "outputs": [],
   "source": [
    "Data_f = pd.Da# taFrame(Data)"
   ]
  },
  {
   "cell_type": "code",
   "execution_count": 178,
   "metadata": {},
   "outputs": [
    {
     "output_type": "execute_result",
     "data": {
      "text/plain": "                 topic                           name          user   star  \\\n0         Data-Science                          keras    keras-team  47.9k   \n0     machine-Learning                     tensorflow    tensorflow   144k   \n0              Open-CV                    SmartOpenCV      HuTianQi   1.8k   \n0      Computer-Vision                         opencv        opencv  43.9k   \n0                  GAN   pytorch-CycleGAN-and-pix2pix       junyanz  11.6k   \n0  variational-encoder  alfred-encode-decode-workflow   willfarrell    379   \n0               awsome                    awesome-aws   donnemartin     8k   \n0           javascript                   freeCodeCamp  freeCodeCamp   310k   \n0                  c++    coding-interview-university       jwasham   110k   \n\n    fork watch  issue pull_requests projects  \\\n0  18.1k  2.1k  2,940            87        1   \n0  80.9k  8.4k  3,299           202        1   \n0    509    93      0             0        0   \n0  34.9k  2.6k  1,693            58            \n0   3.4k   311    189             9        0   \n0     22    18      5             0        0   \n0    949   432      5            42        0   \n0    24k  8.4k    172            57            \n0  32.1k  5.8k     26            22            \n\n                                           topic_tag  \\\n0  [deep-learning, tensorflow, neural-networks, m...   \n0  [tensorflow, machine-learning, python, deep-le...   \n0  [opencv, ai, android, cv, sdk, surfaceview, ca...   \n0  [opencv, c-plus-plus, computer-vision, deep-le...   \n0  [pytorch, gan, cyclegan, pix2pix, deep-learnin...   \n0                                                 []   \n0  [aws, cloud, aws-sdk, aws-cli, cloudformation,...   \n0  [learn-to-code, nonprofits, programming, nodej...   \n0  [computer-science, interview, programming-inte...   \n\n                                    discription_text  \\\n0                           Deep Learning for humans   \n0  An Open Source Machine Learning Framework for ...   \n0  🔥 🔥 🔥 SmartOpenCV是一个OpenCV在Android端的增强库，解决了Ope...   \n0                Open Source Computer Vision Library   \n0              Image-to-Image Translation in PyTorch   \n0  Encoding and decoding a sting into multiple va...   \n0  A curated list of awesome Amazon Web Services ...   \n0  freeCodeCamp.org's open source codebase and cu...   \n0  A complete computer science study plan to beco...   \n\n                discription_url commits branches packages releases  \\\n0              http://keras.io/   5,342        6        0        0   \n0        https://tensorflow.org  84,328       50        0        0   \n0                          None      20        1        0        0   \n0            https://opencv.org  28,487        3        0        0   \n0                          None     445        3        0        0   \n0                          None      24        1        0        0   \n0                          None     580        2        0        0   \n0  https://www.freecodecamp.org  25,592        8        0        0   \n0                          None   1,342        1        0        0   \n\n  contributers       License  \\\n0           49  View license   \n0          107    Apache-2.0   \n0            2    Apache-2.0   \n0           93  View license   \n0            0  View license   \n0            7           MIT   \n0            1  View license   \n0            0  BSD-3-Clause   \n0            0  CC-BY-SA-4.0   \n\n                                                 url  \n0                https://github.com/keras-team/keras  \n0           https://github.com/tensorflow/tensorflow  \n0            https://github.com/HuTianQi/SmartOpenCV  \n0                   https://github.com/opencv/opencv  \n0  https://github.com/junyanz/pytorch-CycleGAN-an...  \n0  https://github.com/willfarrell/alfred-encode-d...  \n0         https://github.com/donnemartin/awesome-aws  \n0       https://github.com/freeCodeCamp/freeCodeCamp  \n0  https://github.com/jwasham/coding-interview-un...  ",
      "text/html": "<div>\n<style scoped>\n    .dataframe tbody tr th:only-of-type {\n        vertical-align: middle;\n    }\n\n    .dataframe tbody tr th {\n        vertical-align: top;\n    }\n\n    .dataframe thead th {\n        text-align: right;\n    }\n</style>\n<table border=\"1\" class=\"dataframe\">\n  <thead>\n    <tr style=\"text-align: right;\">\n      <th></th>\n      <th>topic</th>\n      <th>name</th>\n      <th>user</th>\n      <th>star</th>\n      <th>fork</th>\n      <th>watch</th>\n      <th>issue</th>\n      <th>pull_requests</th>\n      <th>projects</th>\n      <th>topic_tag</th>\n      <th>discription_text</th>\n      <th>discription_url</th>\n      <th>commits</th>\n      <th>branches</th>\n      <th>packages</th>\n      <th>releases</th>\n      <th>contributers</th>\n      <th>License</th>\n      <th>url</th>\n    </tr>\n  </thead>\n  <tbody>\n    <tr>\n      <th>0</th>\n      <td>Data-Science</td>\n      <td>keras</td>\n      <td>keras-team</td>\n      <td>47.9k</td>\n      <td>18.1k</td>\n      <td>2.1k</td>\n      <td>2,940</td>\n      <td>87</td>\n      <td>1</td>\n      <td>[deep-learning, tensorflow, neural-networks, m...</td>\n      <td>Deep Learning for humans</td>\n      <td>http://keras.io/</td>\n      <td>5,342</td>\n      <td>6</td>\n      <td>0</td>\n      <td>0</td>\n      <td>49</td>\n      <td>View license</td>\n      <td>https://github.com/keras-team/keras</td>\n    </tr>\n    <tr>\n      <th>0</th>\n      <td>machine-Learning</td>\n      <td>tensorflow</td>\n      <td>tensorflow</td>\n      <td>144k</td>\n      <td>80.9k</td>\n      <td>8.4k</td>\n      <td>3,299</td>\n      <td>202</td>\n      <td>1</td>\n      <td>[tensorflow, machine-learning, python, deep-le...</td>\n      <td>An Open Source Machine Learning Framework for ...</td>\n      <td>https://tensorflow.org</td>\n      <td>84,328</td>\n      <td>50</td>\n      <td>0</td>\n      <td>0</td>\n      <td>107</td>\n      <td>Apache-2.0</td>\n      <td>https://github.com/tensorflow/tensorflow</td>\n    </tr>\n    <tr>\n      <th>0</th>\n      <td>Open-CV</td>\n      <td>SmartOpenCV</td>\n      <td>HuTianQi</td>\n      <td>1.8k</td>\n      <td>509</td>\n      <td>93</td>\n      <td>0</td>\n      <td>0</td>\n      <td>0</td>\n      <td>[opencv, ai, android, cv, sdk, surfaceview, ca...</td>\n      <td>🔥 🔥 🔥 SmartOpenCV是一个OpenCV在Android端的增强库，解决了Ope...</td>\n      <td>None</td>\n      <td>20</td>\n      <td>1</td>\n      <td>0</td>\n      <td>0</td>\n      <td>2</td>\n      <td>Apache-2.0</td>\n      <td>https://github.com/HuTianQi/SmartOpenCV</td>\n    </tr>\n    <tr>\n      <th>0</th>\n      <td>Computer-Vision</td>\n      <td>opencv</td>\n      <td>opencv</td>\n      <td>43.9k</td>\n      <td>34.9k</td>\n      <td>2.6k</td>\n      <td>1,693</td>\n      <td>58</td>\n      <td></td>\n      <td>[opencv, c-plus-plus, computer-vision, deep-le...</td>\n      <td>Open Source Computer Vision Library</td>\n      <td>https://opencv.org</td>\n      <td>28,487</td>\n      <td>3</td>\n      <td>0</td>\n      <td>0</td>\n      <td>93</td>\n      <td>View license</td>\n      <td>https://github.com/opencv/opencv</td>\n    </tr>\n    <tr>\n      <th>0</th>\n      <td>GAN</td>\n      <td>pytorch-CycleGAN-and-pix2pix</td>\n      <td>junyanz</td>\n      <td>11.6k</td>\n      <td>3.4k</td>\n      <td>311</td>\n      <td>189</td>\n      <td>9</td>\n      <td>0</td>\n      <td>[pytorch, gan, cyclegan, pix2pix, deep-learnin...</td>\n      <td>Image-to-Image Translation in PyTorch</td>\n      <td>None</td>\n      <td>445</td>\n      <td>3</td>\n      <td>0</td>\n      <td>0</td>\n      <td>0</td>\n      <td>View license</td>\n      <td>https://github.com/junyanz/pytorch-CycleGAN-an...</td>\n    </tr>\n    <tr>\n      <th>0</th>\n      <td>variational-encoder</td>\n      <td>alfred-encode-decode-workflow</td>\n      <td>willfarrell</td>\n      <td>379</td>\n      <td>22</td>\n      <td>18</td>\n      <td>5</td>\n      <td>0</td>\n      <td>0</td>\n      <td>[]</td>\n      <td>Encoding and decoding a sting into multiple va...</td>\n      <td>None</td>\n      <td>24</td>\n      <td>1</td>\n      <td>0</td>\n      <td>0</td>\n      <td>7</td>\n      <td>MIT</td>\n      <td>https://github.com/willfarrell/alfred-encode-d...</td>\n    </tr>\n    <tr>\n      <th>0</th>\n      <td>awsome</td>\n      <td>awesome-aws</td>\n      <td>donnemartin</td>\n      <td>8k</td>\n      <td>949</td>\n      <td>432</td>\n      <td>5</td>\n      <td>42</td>\n      <td>0</td>\n      <td>[aws, cloud, aws-sdk, aws-cli, cloudformation,...</td>\n      <td>A curated list of awesome Amazon Web Services ...</td>\n      <td>None</td>\n      <td>580</td>\n      <td>2</td>\n      <td>0</td>\n      <td>0</td>\n      <td>1</td>\n      <td>View license</td>\n      <td>https://github.com/donnemartin/awesome-aws</td>\n    </tr>\n    <tr>\n      <th>0</th>\n      <td>javascript</td>\n      <td>freeCodeCamp</td>\n      <td>freeCodeCamp</td>\n      <td>310k</td>\n      <td>24k</td>\n      <td>8.4k</td>\n      <td>172</td>\n      <td>57</td>\n      <td></td>\n      <td>[learn-to-code, nonprofits, programming, nodej...</td>\n      <td>freeCodeCamp.org's open source codebase and cu...</td>\n      <td>https://www.freecodecamp.org</td>\n      <td>25,592</td>\n      <td>8</td>\n      <td>0</td>\n      <td>0</td>\n      <td>0</td>\n      <td>BSD-3-Clause</td>\n      <td>https://github.com/freeCodeCamp/freeCodeCamp</td>\n    </tr>\n    <tr>\n      <th>0</th>\n      <td>c++</td>\n      <td>coding-interview-university</td>\n      <td>jwasham</td>\n      <td>110k</td>\n      <td>32.1k</td>\n      <td>5.8k</td>\n      <td>26</td>\n      <td>22</td>\n      <td></td>\n      <td>[computer-science, interview, programming-inte...</td>\n      <td>A complete computer science study plan to beco...</td>\n      <td>None</td>\n      <td>1,342</td>\n      <td>1</td>\n      <td>0</td>\n      <td>0</td>\n      <td>0</td>\n      <td>CC-BY-SA-4.0</td>\n      <td>https://github.com/jwasham/coding-interview-un...</td>\n    </tr>\n  </tbody>\n</table>\n</div>"
     },
     "metadata": {},
     "execution_count": 178
    }
   ],
   "source": [
    "Data_f"
   ]
  },
  {
   "cell_type": "code",
   "execution_count": null,
   "metadata": {},
   "outputs": [],
   "source": []
  }
 ]
}